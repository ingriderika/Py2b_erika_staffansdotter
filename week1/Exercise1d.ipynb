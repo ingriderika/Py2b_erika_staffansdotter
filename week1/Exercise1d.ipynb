{
 "cells": [
  {
   "cell_type": "markdown",
   "metadata": {},
   "source": [
    "# Exercise 1d - Solution Proposal "
   ]
  },
  {
   "cell_type": "markdown",
   "metadata": {},
   "source": [
    "Hello and welcome to your first practical exercise with Jupyter Notebook. Your objective is to create a program that creates a meal using a list of ingredients. Note; work directly inside of this notebook! No need to create a new one\n",
    "\n",
    "\n",
    "## Step One\n",
    "\n",
    "Run the cell below to create the *ingredients* list."
   ]
  },
  {
   "cell_type": "code",
   "execution_count": 133,
   "metadata": {},
   "outputs": [],
   "source": [
    "ingredients = [\"flour\", \"egg\", \"sugar\", \"milk\", \"salt\", \"water\", \"beef\", \"chicken\", \"peppers\", \"mushroom\", \"corn\", \"kebab\", \"rice\", \"beans\", \"peas\", \"turkey\", \"potato\", \"spinach\", \"mashed potatoes\", \"noodles\", \"ketchup\", \"almonds\", \"coconut\", \"beets\", \"strawberry\", \"apple\", \"shrimp\", \"garlic\", \"cheese\", \"onion\"]"
   ]
  },
  {
   "cell_type": "markdown",
   "metadata": {},
   "source": [
    "## Step Two\n",
    "\n",
    "We can now use the list *ingredients* to create our own custom meal. Create your meal below by creating a list of ingredient items using at least 5 ingredients. The meal does not have to be yummy. \n",
    "**Hint:** use ingredients[x] where x is an integer between 0-29 to get an ingredient. "
   ]
  },
  {
   "cell_type": "code",
   "execution_count": 134,
   "metadata": {},
   "outputs": [],
   "source": [
    "meal = [ingredients[0],2,ingredients[4],0.001,ingredients[5],5,ingredients[9],3,ingredients[17],3,ingredients[27],0.25]"
   ]
  },
  {
   "cell_type": "markdown",
   "metadata": {},
   "source": [
    "In the function *main* below, create a variable *meal_name*, which will represent the name of your meal. \n",
    "Then print *meal_name* and add a call to the *looper* function with your meal as an argument. We will complete the *looper* function in the next step.\n"
   ]
  },
  {
   "cell_type": "code",
   "execution_count": 140,
   "metadata": {},
   "outputs": [],
   "source": [
    "def main(name_of_dish, ingred): #TODO\n",
    "    meal_name = name_of_dish\n",
    "    meal = ingred\n",
    "    print(meal_name)\n",
    "    looper(meal)"
   ]
  },
  {
   "cell_type": "markdown",
   "metadata": {},
   "source": [
    "## Step Three\n",
    "\n",
    "The function *looper* will take a list *meal* as an argument, loop through it and print each element in the list. \n",
    "After the loop is done, add a call to the function *print_list* and complete that function as well. *print_list* takes the list *meal* as an argument and prints the whole list."
   ]
  },
  {
   "cell_type": "code",
   "execution_count": 136,
   "metadata": {},
   "outputs": [],
   "source": [
    "def looper(meal): #TODO\n",
    "    meal_list = meal[0::2]\n",
    "    cups_list = meal[1::2]\n",
    "    for x in range(len(meal_list)):\n",
    "        print(\"{}\".format(cups_list[x]),\"cups of {}\".format(meal_list[x]))\n",
    "        #print(cups_list[x])\n",
    "    print_list(meal)"
   ]
  },
  {
   "cell_type": "code",
   "execution_count": 137,
   "metadata": {},
   "outputs": [],
   "source": [
    "def print_list(meal): #TODO\n",
    "    print(meal)"
   ]
  },
  {
   "cell_type": "markdown",
   "metadata": {},
   "source": [
    "## Step Four\n",
    "\n",
    "Finally, call the function *main* in the cell below and see what gets printed out. If you get an error, make sure that you have run all the necessary cells in the correct order before calling the *main* function. **Hint:** The function *main* calls the function *looper* which calls the function *print_list*. Make sure you have run the cells containing those function before calling *main*. "
   ]
  },
  {
   "cell_type": "code",
   "execution_count": 141,
   "metadata": {},
   "outputs": [
    {
     "name": "stdout",
     "output_type": "stream",
     "text": [
      "Veggie pizza\n",
      "2 cups of flour\n",
      "0.001 cups of salt\n",
      "5 cups of water\n",
      "3 cups of mushroom\n",
      "3 cups of spinach\n",
      "0.25 cups of garlic\n",
      "['flour', 2, 'salt', 0.001, 'water', 5, 'mushroom', 3, 'spinach', 3, 'garlic', 0.25]\n"
     ]
    }
   ],
   "source": [
    "ingred = [ingredients[0],2, ingredients[4],0.001, ingredients[5],5, ingredients[9],3,ingredients[17],3, ingredients[27],0.25]\n",
    "name = \"Veggie pizza\"\n",
    "main(name, ingred)"
   ]
  },
  {
   "cell_type": "code",
   "execution_count": 143,
   "metadata": {},
   "outputs": [
    {
     "name": "stdout",
     "output_type": "stream",
     "text": [
      "Random dish\n",
      "5 cups of egg\n",
      "2 cups of chicken\n",
      "3 cups of rice\n",
      "['egg', 5, 'chicken', 2, 'rice', 3]\n"
     ]
    }
   ],
   "source": [
    "ingred2 = [ingredients[1],5, ingredients[7],2, ingredients[12],3]\n",
    "name2 = \"Random good dish\"\n",
    "main(name2, ingred2)"
   ]
  }
 ],
 "metadata": {
  "kernelspec": {
   "display_name": "Python 3",
   "language": "python",
   "name": "python3"
  },
  "language_info": {
   "codemirror_mode": {
    "name": "ipython",
    "version": 3
   },
   "file_extension": ".py",
   "mimetype": "text/x-python",
   "name": "python",
   "nbconvert_exporter": "python",
   "pygments_lexer": "ipython3",
   "version": "3.8.3"
  }
 },
 "nbformat": 4,
 "nbformat_minor": 5
}
