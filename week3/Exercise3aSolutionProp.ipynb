{
 "cells": [
  {
   "cell_type": "code",
   "execution_count": null,
   "id": "c1cf08be",
   "metadata": {},
   "outputs": [],
   "source": [
    "#Q1: Output the first three rows in sorted_df and df respectively\n",
    "# here output first three of df\n",
    "df[0:3]"
   ]
  },
  {
   "cell_type": "code",
   "execution_count": null,
   "id": "c78cfc68",
   "metadata": {
    "scrolled": true
   },
   "outputs": [],
   "source": [
    "# here output first three of sorted_df\n",
    "sorted_df[0:3]"
   ]
  },
  {
   "cell_type": "code",
   "execution_count": null,
   "id": "abecf194",
   "metadata": {},
   "outputs": [],
   "source": [
    "#Q2: Get the Broad Bean origin for the third item from the top from the sorted_df (i.e Ghana)\n",
    "# Hint: Use iloc to get a specific row from the top, syntax should be sorted_df.iloc[smthing][column name]\n",
    "sorted_df.iloc[2][\"Broad Bean Origin\"]"
   ]
  },
  {
   "cell_type": "code",
   "execution_count": null,
   "id": "a2d31c34",
   "metadata": {},
   "outputs": [],
   "source": []
  }
 ],
 "metadata": {
  "kernelspec": {
   "display_name": "Python 3",
   "language": "python",
   "name": "python3"
  },
  "language_info": {
   "codemirror_mode": {
    "name": "ipython",
    "version": 3
   },
   "file_extension": ".py",
   "mimetype": "text/x-python",
   "name": "python",
   "nbconvert_exporter": "python",
   "pygments_lexer": "ipython3",
   "version": "3.8.8"
  }
 },
 "nbformat": 4,
 "nbformat_minor": 5
}
