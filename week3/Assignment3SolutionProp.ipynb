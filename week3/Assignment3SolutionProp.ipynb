{
 "cells": [
  {
   "cell_type": "markdown",
   "id": "7e6f4f9a",
   "metadata": {},
   "source": [
    "<div style=\"background: black; padding: 10px 250px\"><img src=\"https://www.veldikompetens.se/wp-content/themes/consid/static/icons/VeldiKompetens_Logo_Web_Negative.svg\" title=\"Veldi kompetens\" /></div>"
   ]
  },
  {
   "cell_type": "markdown",
   "id": "2c93bffd",
   "metadata": {},
   "source": [
    "<hr><h1><center>Assignment 3 - Working on a fresh dataset </center></h1>"
   ]
  },
  {
   "cell_type": "markdown",
   "id": "552ffa3f",
   "metadata": {},
   "source": [
    "<h3> 2. The assignment</h3>\n",
    "<h4> 2.1 Introduction to the dataset </h4>\n",
    "<p>Lets first get a good grasp of the data represented use the describe function to generate a general overview and lets set two good to have variables; the amount of samples (the samples variable) and the amount of columns/attributes (the columns variable  </p>"
   ]
  },
  {
   "cell_type": "code",
   "execution_count": null,
   "id": "a613c93c",
   "metadata": {
    "scrolled": true
   },
   "outputs": [],
   "source": [
    "samples = len(df)\n",
    "columns = len(df.columns)\n",
    "\n",
    "print(samples)\n",
    "print(columns)\n",
    "df.describe()"
   ]
  },
  {
   "cell_type": "markdown",
   "id": "271e3b1f",
   "metadata": {},
   "source": [
    "<h4>2.2 Finding and dropping NA values </h4>\n",
    "<p>Lets now check if there are any NA values in any of our columns </p>"
   ]
  },
  {
   "cell_type": "code",
   "execution_count": null,
   "id": "186d789d",
   "metadata": {},
   "outputs": [],
   "source": [
    "def count_nan():\n",
    "    # For each column in the dataset perform the isna() operation and summarize the result\n",
    "    \n",
    "        for col in df.columns:\n",
    "            column_name = col\n",
    "            working_col = df[col]\n",
    "    \n",
    "            working_col_missing_bean = working_col.isna().sum()\n",
    "    \n",
    "            print(f\"The column {column_name} is missing {working_col_missing_bean/samples * 100}% of data! \")\n",
    "        \n",
    "count_nan()"
   ]
  },
  {
   "cell_type": "code",
   "execution_count": null,
   "id": "e75b44c7",
   "metadata": {
    "scrolled": false
   },
   "outputs": [],
   "source": [
    "# 1. Extract all the samples that meet the criteria of isna()\n",
    "nan_samples = df[df.isna().all(axis=1)]\n",
    "\n",
    "# 2. Get the indexs for these rows\n",
    "nan_indexes = nan_samples.index.values\n",
    "\n",
    "# 3. Drop them from the dataframe\n",
    "df = df.drop(nan_indexes)\n",
    "\n",
    "# Finally, lets rerun the count_nan function to examine our revised dataset\n",
    "count_nan()\n"
   ]
  },
  {
   "cell_type": "markdown",
   "id": "d600b91b",
   "metadata": {},
   "source": [
    "<h4>2.3 Filtering and reindexing</h4>\n",
    "<p>Next up we will filter the dataset by quality and then reindex the dataset </p>"
   ]
  },
  {
   "cell_type": "code",
   "execution_count": null,
   "id": "3f58f606",
   "metadata": {},
   "outputs": [],
   "source": [
    "df = df.sort_values(by=[\"quality\"])\n",
    "df = df.reset_index(drop=True)\n",
    "df"
   ]
  },
  {
   "cell_type": "markdown",
   "id": "207794fa",
   "metadata": {},
   "source": [
    "<h4>2.4 Transforming the data</h4>\n",
    "<p>Lastly as part of the assignment we will be transforming and normalizing the data values. In Exercise 3c you saw how to perform this for one column, here we will recreate it but for all the columns that can benefit from it (which truth be told is all of them). The solutions is also a bit different so you cant fully copy paste.</p>"
   ]
  },
  {
   "cell_type": "code",
   "execution_count": null,
   "id": "9de1af09",
   "metadata": {
    "scrolled": false
   },
   "outputs": [],
   "source": [
    "def normalize_values(col_value, min_val, max_val):\n",
    "    normalized_val = np.divide(col_value - min_val, max_val - min_val)\n",
    "    return normalized_val\n",
    "\n",
    "def main():\n",
    "    for column in df.columns:\n",
    "        min_val = df[column].min()\n",
    "        max_val = df[column].max()\n",
    "        df[column] = df[column].apply(normalize_values, args=(min_val, max_val))\n",
    "\n",
    "\n",
    "main()\n",
    "df.describe()"
   ]
  },
  {
   "cell_type": "code",
   "execution_count": null,
   "id": "6e93e559",
   "metadata": {},
   "outputs": [],
   "source": []
  }
 ],
 "metadata": {
  "kernelspec": {
   "display_name": "Python 3",
   "language": "python",
   "name": "python3"
  },
  "language_info": {
   "codemirror_mode": {
    "name": "ipython",
    "version": 3
   },
   "file_extension": ".py",
   "mimetype": "text/x-python",
   "name": "python",
   "nbconvert_exporter": "python",
   "pygments_lexer": "ipython3",
   "version": "3.8.8"
  }
 },
 "nbformat": 4,
 "nbformat_minor": 5
}
