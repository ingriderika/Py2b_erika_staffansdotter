{
 "cells": [
  {
   "cell_type": "code",
   "execution_count": 2,
   "id": "40e1cffd",
   "metadata": {},
   "outputs": [
    {
     "name": "stdout",
     "output_type": "stream",
     "text": [
      "(3, 3, 3)\n",
      "[[[4 4 4]\n",
      "  [5 5 5]\n",
      "  [3 3 3]]\n",
      "\n",
      " [[3 4 5]\n",
      "  [6 7 8]\n",
      "  [4 4 4]]\n",
      "\n",
      " [[3 3 3]\n",
      "  [9 9 9]\n",
      "  [5 5 5]]]\n"
     ]
    }
   ],
   "source": [
    "import numpy as np\n",
    "\n",
    "array1 = np.array(\n",
    "    [\n",
    "        [\n",
    "           [2,2,2], [3,3,3], [1,1,1] \n",
    "        ],\n",
    "        [\n",
    "            [1,2,3], [4,5,6], [2,2,2]\n",
    "        ],\n",
    "        [\n",
    "            [1,1,1], [7,7,7], [3,3,3]\n",
    "        ]\n",
    "    ])\n",
    "array2 = np.array([2,2,2])\n",
    "\n",
    "print(array1.shape)\n",
    "print(array1 + 2)"
   ]
  },
  {
   "cell_type": "code",
   "execution_count": null,
   "id": "42723736",
   "metadata": {},
   "outputs": [],
   "source": []
  }
 ],
 "metadata": {
  "kernelspec": {
   "display_name": "Python 3",
   "language": "python",
   "name": "python3"
  },
  "language_info": {
   "codemirror_mode": {
    "name": "ipython",
    "version": 3
   },
   "file_extension": ".py",
   "mimetype": "text/x-python",
   "name": "python",
   "nbconvert_exporter": "python",
   "pygments_lexer": "ipython3",
   "version": "3.8.8"
  }
 },
 "nbformat": 4,
 "nbformat_minor": 5
}
