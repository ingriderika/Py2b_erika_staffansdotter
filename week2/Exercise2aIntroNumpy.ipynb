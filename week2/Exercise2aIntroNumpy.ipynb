{
 "cells": [
  {
   "cell_type": "markdown",
   "metadata": {},
   "source": [
    "<div style=\"background: black; padding: 10px 250px\"><img src=\"https://www.veldikompetens.se/wp-content/themes/consid/static/icons/VeldiKompetens_Logo_Web_Negative.svg\" title=\"Veldi kompetens\" /></div>"
   ]
  },
  {
   "cell_type": "markdown",
   "metadata": {},
   "source": [
    "<hr><h1><center>Exercise 2a - Introduction to Numpy</center></h1>\n",
    "\n",
    "<h3>Instructions </h3>\n",
    "\n",
    "In this exercise you will learn how to create and use NumPy arrays and learn what advantages NumPy comes with when it comes to arrays. You might wonder what the differences between an array and list are. \n",
    "\n",
    "A list can consist of different datatypes while an array only consists of one datatype, and each nested element in the array must contain the same size. Lists consumes more memory than arrays and are often prefered for shorter sequence of data items. An array however, is more efficient on handling larger data sizes.\n",
    "\n",
    "A NumPy array cannot contain values of different types. Since all elements are of the same type, there is no need to check the type of each element in the array during runtime. This is one of the reasons why a NumPy array is faster than a normal array. "
   ]
  },
  {
   "cell_type": "markdown",
   "metadata": {},
   "source": [
    "<h3> 1. Setup </h3>\n",
    "\n",
    "Make sure to import the NumPy package. This is done by running the cell below."
   ]
  },
  {
   "cell_type": "code",
   "execution_count": 1,
   "metadata": {},
   "outputs": [],
   "source": [
    "import numpy as np"
   ]
  },
  {
   "cell_type": "markdown",
   "metadata": {},
   "source": [
    "<h3> 2. Introduction to Numpy </h3>"
   ]
  },
  {
   "cell_type": "markdown",
   "metadata": {},
   "source": [
    "<h4>2.1 The Basics </h4>\n",
    "\n",
    "Start by creating a NumPy array by using np.array."
   ]
  },
  {
   "cell_type": "code",
   "execution_count": 2,
   "metadata": {},
   "outputs": [
    {
     "name": "stdout",
     "output_type": "stream",
     "text": [
      "[1 2 3 4 5 6 7 8 9]\n"
     ]
    }
   ],
   "source": [
    "numpy_array = np.array([1,2,3,4,5,6,7,8,9])\n",
    "print(numpy_array)"
   ]
  },
  {
   "cell_type": "markdown",
   "metadata": {},
   "source": [
    "Usually, if you want to increment all elements in a list by one, you would probably be using something like the code in the cell below."
   ]
  },
  {
   "cell_type": "code",
   "execution_count": 3,
   "metadata": {},
   "outputs": [
    {
     "name": "stdout",
     "output_type": "stream",
     "text": [
      "[2, 3, 4, 5, 6, 7, 8, 9, 10]\n"
     ]
    }
   ],
   "source": [
    "python_list = [1, 2, 3, 4, 5, 6, 7, 8, 9]\n",
    "    \n",
    "for i, _ in enumerate(python_list):\n",
    "    python_list[i] += 1\n",
    "\n",
    "\n",
    "print(python_list)"
   ]
  },
  {
   "cell_type": "markdown",
   "metadata": {},
   "source": [
    "With a NumPy array, all operators on arrays apply elementwise. Therefore it is possible to increment all the elements in an array with very simple code."
   ]
  },
  {
   "cell_type": "code",
   "execution_count": 4,
   "metadata": {},
   "outputs": [
    {
     "name": "stdout",
     "output_type": "stream",
     "text": [
      "[ 2  3  4  5  6  7  8  9 10]\n",
      "[ 2  4  6  8 10 12 14 16 18]\n",
      "[ 1  4  9 16 25 36 49 64 81]\n"
     ]
    }
   ],
   "source": [
    "print(numpy_array + 1) # Get all elements incremented by one.\n",
    "print(numpy_array *2) # Get all elements multiplied by two.\n",
    "print(numpy_array **2) # Get the square of all elements in the array."
   ]
  },
  {
   "cell_type": "markdown",
   "metadata": {},
   "source": [
    "If you would print numpy_array after running above cells, you would see that its value has not changed despite the code in the cell above. "
   ]
  },
  {
   "cell_type": "code",
   "execution_count": 5,
   "metadata": {},
   "outputs": [
    {
     "name": "stdout",
     "output_type": "stream",
     "text": [
      "[1 2 3 4 5 6 7 8 9]\n"
     ]
    }
   ],
   "source": [
    "print(numpy_array)"
   ]
  },
  {
   "cell_type": "markdown",
   "metadata": {},
   "source": [
    "To change the values in an array, make sure that you assign the array these new values as well. Numpy does this by Broadcasting (recommended optional reading)"
   ]
  },
  {
   "cell_type": "code",
   "execution_count": 6,
   "metadata": {},
   "outputs": [
    {
     "name": "stdout",
     "output_type": "stream",
     "text": [
      "[ 16  36  64 100 144 196 256 324 400]\n"
     ]
    }
   ],
   "source": [
    "# Changing the values in an array\n",
    "numpy_array += 1 # Incrementing all elements by one.\n",
    "numpy_array *= 2 # Multiplying all elements by 2.\n",
    "numpy_array **= 2 # Squaring all elements in the array.\n",
    "\n",
    "print(numpy_array)"
   ]
  },
  {
   "cell_type": "markdown",
   "metadata": {},
   "source": [
    "<h4>2.2 Other operators </h4>"
   ]
  },
  {
   "cell_type": "code",
   "execution_count": 7,
   "metadata": {},
   "outputs": [
    {
     "name": "stdout",
     "output_type": "stream",
     "text": [
      "[1. 1. 1. 1. 1. 1. 1. 1. 1. 1. 1. 1. 1. 1. 1. 1. 1. 1. 1. 1.]\n"
     ]
    }
   ],
   "source": [
    "# Create an array with 20 elements and with value 1. \n",
    "numpy_array = np.ones(20)\n",
    "print(numpy_array)"
   ]
  },
  {
   "cell_type": "code",
   "execution_count": 8,
   "metadata": {},
   "outputs": [
    {
     "name": "stdout",
     "output_type": "stream",
     "text": [
      "[0. 0. 0. 0. 0. 0. 0. 0. 0. 0. 0. 0. 0. 0. 0. 0. 0. 0. 0. 0.]\n"
     ]
    }
   ],
   "source": [
    "# Create an array with 20 elements and with value 0.\n",
    "numpy_array = np.zeros(20) \n",
    "print(numpy_array)"
   ]
  },
  {
   "cell_type": "code",
   "execution_count": 9,
   "metadata": {},
   "outputs": [
    {
     "name": "stdout",
     "output_type": "stream",
     "text": [
      "[ 0  1  2  3  4  5  6  7  8  9 10 11 12 13 14 15 16 17 18 19]\n"
     ]
    }
   ],
   "source": [
    "# Create an array with 20 elements and with values 0-19.\n",
    "numpy_array = np.arange(20) \n",
    "print(numpy_array)"
   ]
  },
  {
   "cell_type": "code",
   "execution_count": 10,
   "metadata": {},
   "outputs": [
    {
     "name": "stdout",
     "output_type": "stream",
     "text": [
      "[100 150 200 250 300 350 400 450]\n"
     ]
    }
   ],
   "source": [
    "# Create an array with elements between 100-500 with spacing equal to 50.\n",
    "numpy_array = np.arange(100, 500, 50)\n",
    "print(numpy_array)"
   ]
  },
  {
   "cell_type": "code",
   "execution_count": 11,
   "metadata": {},
   "outputs": [
    {
     "name": "stdout",
     "output_type": "stream",
     "text": [
      "[False False False False False  True  True  True]\n"
     ]
    }
   ],
   "source": [
    "# Returns true/false for all values in the array. \n",
    "print(numpy_array > 300)"
   ]
  },
  {
   "cell_type": "code",
   "execution_count": 12,
   "metadata": {},
   "outputs": [
    {
     "name": "stdout",
     "output_type": "stream",
     "text": [
      "[250 300 350 400 450]\n"
     ]
    }
   ],
   "source": [
    "# Select all values from position 3 until position 10. This is called slicing.\n",
    "print(numpy_array[3:10])\n",
    "\n",
    "# When you use array[x:y], the x:th position will be included but the y:th position will be excluded. "
   ]
  },
  {
   "cell_type": "code",
   "execution_count": 13,
   "metadata": {},
   "outputs": [
    {
     "name": "stdout",
     "output_type": "stream",
     "text": [
      "[350 400 450]\n",
      "[100 150 200 250 300]\n"
     ]
    }
   ],
   "source": [
    "# Select all values from position 5 to the end of the array.\n",
    "\n",
    "print(numpy_array[5:])\n",
    "\n",
    "# Or from the beginning of the array to position 5\n",
    "\n",
    "print(numpy_array[:5])"
   ]
  },
  {
   "cell_type": "code",
   "execution_count": 14,
   "metadata": {},
   "outputs": [
    {
     "name": "stdout",
     "output_type": "stream",
     "text": [
      "a + b:  [11 22 33 44]\n",
      "a - b:  [ 9 18 27 36]\n",
      "a * b:  [ 10  40  90 160]\n"
     ]
    }
   ],
   "source": [
    "# You can use operations using arrays on arrays.\n",
    "a = np.array([10, 20, 30, 40])\n",
    "b = np.array([1, 2, 3, 4])\n",
    "print(\"a + b: \", a+b)\n",
    "print(\"a - b: \", a-b)\n",
    "print(\"a * b: \", a*b)"
   ]
  },
  {
   "cell_type": "markdown",
   "metadata": {},
   "source": [
    "The above code only works if the two arrays have either the same amount of elements in them or if NumPy can successfully broadcast the smaller array to match the other. However, broadcasting only works if the arrays have the exact same number of elements or if the shorter array contains exactly one element. "
   ]
  },
  {
   "cell_type": "code",
   "execution_count": 15,
   "metadata": {},
   "outputs": [
    {
     "name": "stdout",
     "output_type": "stream",
     "text": [
      "[20 30 40 50]\n",
      "[20 30 40 50]\n"
     ]
    }
   ],
   "source": [
    "# For example, in the code below, both array a + array b and array a + array c will print the same output. \n",
    "# This is because NumPy matches the shape of array a by creating a new array containing repeating values \n",
    "# of the value in array c which in this case makes it identical to array b.\n",
    "\n",
    "a = np.array([10, 20, 30, 40])\n",
    "b = np.array([10, 10, 10, 10])\n",
    "c = np.array(10)\n",
    "\n",
    "\n",
    "print(a + b)\n",
    "print(a + c)"
   ]
  },
  {
   "cell_type": "code",
   "execution_count": 16,
   "metadata": {},
   "outputs": [
    {
     "name": "stdout",
     "output_type": "stream",
     "text": [
      "[ 1  2  2  3  3  3  3  4  5  6  7  7  7  8  8  9 10]\n"
     ]
    }
   ],
   "source": [
    "# Sort an array by ascending.\n",
    "unsorted_array = np.array([3, 8, 4, 7, 3, 7, 2, 2, 1 ,7, 9, 5, 3, 10, 8, 3, 6])\n",
    "\n",
    "print(np.sort(unsorted_array))"
   ]
  },
  {
   "cell_type": "markdown",
   "metadata": {},
   "source": [
    "<h4> 2.3 The shape and dimension of an array </h4>"
   ]
  },
  {
   "cell_type": "markdown",
   "metadata": {},
   "source": [
    "A NumPy array can contain arrays with multiple dimensions. The arrays we have used so far is one dimensional arrays. You can also create a two dimensional array:"
   ]
  },
  {
   "cell_type": "code",
   "execution_count": 17,
   "metadata": {},
   "outputs": [
    {
     "name": "stdout",
     "output_type": "stream",
     "text": [
      "[[1 2 3]\n",
      " [4 5 6]]\n"
     ]
    }
   ],
   "source": [
    "two_d_numpy_array = np.array([[1, 2, 3], [4, 5, 6]])\n",
    "print(two_d_numpy_array)"
   ]
  },
  {
   "cell_type": "markdown",
   "metadata": {},
   "source": [
    "Or  a three dimensional array:"
   ]
  },
  {
   "cell_type": "code",
   "execution_count": 18,
   "metadata": {},
   "outputs": [
    {
     "name": "stdout",
     "output_type": "stream",
     "text": [
      "[[[ 1  2  3]\n",
      "  [ 4  5  6]]\n",
      "\n",
      " [[ 7  8  9]\n",
      "  [10 11 12]]]\n"
     ]
    }
   ],
   "source": [
    "three_d_numpy_array = np.array([[[1,2,3], [4, 5, 6]],[[7, 8, 9], [10, 11, 12]]])\n",
    "print(three_d_numpy_array)"
   ]
  },
  {
   "cell_type": "markdown",
   "metadata": {},
   "source": [
    "Of course, you can have practically as many dimensions as you like. To check how many dimensions an array has, use .ndim."
   ]
  },
  {
   "cell_type": "code",
   "execution_count": 19,
   "metadata": {},
   "outputs": [
    {
     "name": "stdout",
     "output_type": "stream",
     "text": [
      "3\n"
     ]
    }
   ],
   "source": [
    "print(three_d_numpy_array.ndim)"
   ]
  },
  {
   "cell_type": "markdown",
   "metadata": {},
   "source": [
    "To get one specific element´s value in an array you need to specify the position of that element. To get the first element in a one dimensional array run the cell below."
   ]
  },
  {
   "cell_type": "code",
   "execution_count": 20,
   "metadata": {},
   "outputs": [
    {
     "name": "stdout",
     "output_type": "stream",
     "text": [
      "100\n"
     ]
    }
   ],
   "source": [
    "print(numpy_array[0])"
   ]
  },
  {
   "cell_type": "markdown",
   "metadata": {},
   "source": [
    "In a two dimensional array each element has two values for its position. To get the second value in the second array in a two dimensional array, run the code below."
   ]
  },
  {
   "cell_type": "code",
   "execution_count": 21,
   "metadata": {},
   "outputs": [
    {
     "name": "stdout",
     "output_type": "stream",
     "text": [
      "5\n"
     ]
    }
   ],
   "source": [
    "print(two_d_numpy_array[1, 1])"
   ]
  },
  {
   "cell_type": "markdown",
   "metadata": {},
   "source": [
    "And to get an individual element in a three dimensional array, you would need to use three values for the position."
   ]
  },
  {
   "cell_type": "code",
   "execution_count": 22,
   "metadata": {},
   "outputs": [
    {
     "name": "stdout",
     "output_type": "stream",
     "text": [
      "9\n"
     ]
    }
   ],
   "source": [
    "print(three_d_numpy_array[1,0,2])"
   ]
  },
  {
   "cell_type": "markdown",
   "metadata": {},
   "source": [
    "This is how the indexing of an element works with the three dimensional array above: \n",
    "\n",
    "three_d_numpy_array looks like this: <pre>[[[1,2,3], [4, 5, 6]], [[7, 8, 9], [10, 11, 12]]]</pre>\n",
    "\n",
    "In the cell above we selected the index [1, 0, 2] and the output was 9.\n",
    "\n",
    "The first number in the index [1, 0, 2] represents the first dimension. \n",
    "three_d_numpy_array contains two arrays:\n",
    "<pre>[[1, 2, 3], [4, 5, 6]]</pre> and <pre>[[7, 8, 9], [10, 11, 12]]</pre>\n",
    "\n",
    "We chose 1 as the first number in the index and therefore we have selected the second array which is \n",
    "<pre>[[7, 8, 9], [10, 11, 12]]</pre>\n",
    "\n",
    "The second number in the index [1, 0, 2] represents the second dimension. It contains two arrays:\n",
    "<pre>[7, 8, 9]</pre> and <pre>[10, 11, 12]</pre>\n",
    "\n",
    "We selected 0 as the second number and the first array was chosen which is\n",
    "<pre>[7, 8, 9]</pre>\n",
    "\n",
    "Finally, the last number in [1, 0, 2] represents the third dimension and contains three values:\n",
    "7 8 9 \n",
    "\n",
    "We chose the number 2 which is the third value 9."
   ]
  },
  {
   "cell_type": "markdown",
   "metadata": {},
   "source": [
    "<h4> 2.4 Shape and reshape </h4>\n",
    "To see how many elements an array has in each of its dimensions, use .shape."
   ]
  },
  {
   "cell_type": "code",
   "execution_count": 23,
   "metadata": {},
   "outputs": [
    {
     "name": "stdout",
     "output_type": "stream",
     "text": [
      "[[ 1  2  3  4  5]\n",
      " [11 12 13 14 15]\n",
      " [21 22 23 24 25]]\n",
      "(3, 5)\n"
     ]
    }
   ],
   "source": [
    "shape_array = np.array([[1, 2, 3, 4, 5], [11, 12, 13, 14, 15], [21, 22, 23, 24, 25]])\n",
    "print(shape_array)\n",
    "print(shape_array.shape)"
   ]
  },
  {
   "cell_type": "markdown",
   "metadata": {},
   "source": [
    "In the above cell we get the output (3, 5) which means that the array has 3 elements in the first dimension<pre>[1, 2, 3, 4, 5], [11, 12, 13, 14, 15] and [21, 22, 23, 24, 25]</pre> and 5 elements in the second dimension, because each of those arrays contains 5 elements."
   ]
  },
  {
   "cell_type": "markdown",
   "metadata": {},
   "source": [
    "If we would want to reshape this array to have 5 elements in its first dimension and 3 in its second, we can use .reshape"
   ]
  },
  {
   "cell_type": "code",
   "execution_count": 24,
   "metadata": {},
   "outputs": [
    {
     "name": "stdout",
     "output_type": "stream",
     "text": [
      "[[ 1  2  3]\n",
      " [ 4  5 11]\n",
      " [12 13 14]\n",
      " [15 21 22]\n",
      " [23 24 25]]\n"
     ]
    }
   ],
   "source": [
    "shape_array = shape_array.reshape(5, 3)\n",
    "print(shape_array)"
   ]
  },
  {
   "cell_type": "markdown",
   "metadata": {},
   "source": [
    "Or one element in the first dimension and 15 in the second;"
   ]
  },
  {
   "cell_type": "code",
   "execution_count": 25,
   "metadata": {},
   "outputs": [
    {
     "name": "stdout",
     "output_type": "stream",
     "text": [
      "[[ 1  2  3  4  5 11 12 13 14 15 21 22 23 24 25]]\n"
     ]
    }
   ],
   "source": [
    "shape_array = shape_array.reshape(1, 15)\n",
    "print(shape_array)"
   ]
  },
  {
   "cell_type": "markdown",
   "metadata": {},
   "source": [
    "We cannot shape arrays however we would like. All arrays needs to have the same number of elements, so reshape(7,2) for example would not work on this array since it would not fit all 15 elements."
   ]
  },
  {
   "cell_type": "code",
   "execution_count": 26,
   "metadata": {},
   "outputs": [
    {
     "name": "stdout",
     "output_type": "stream",
     "text": [
      "Original shape :  (2, 3, 4)\n",
      "\n",
      " [[[1. 1. 1. 1.]\n",
      "  [1. 1. 1. 1.]\n",
      "  [1. 1. 1. 1.]]\n",
      "\n",
      " [[1. 1. 1. 1.]\n",
      "  [1. 1. 1. 1.]\n",
      "  [1. 1. 1. 1.]]]\n",
      "\n",
      "Transposed shape :  (4, 3, 2)\n",
      "\n",
      " [[[1. 1.]\n",
      "  [1. 1.]\n",
      "  [1. 1.]]\n",
      "\n",
      " [[1. 1.]\n",
      "  [1. 1.]\n",
      "  [1. 1.]]\n",
      "\n",
      " [[1. 1.]\n",
      "  [1. 1.]\n",
      "  [1. 1.]]\n",
      "\n",
      " [[1. 1.]\n",
      "  [1. 1.]\n",
      "  [1. 1.]]]\n"
     ]
    }
   ],
   "source": [
    "# You can also use np.transpose to reverse the order of an arrays shape.\n",
    "\n",
    "transpose_array = np.ones((2, 3, 4))\n",
    "print(\"Original shape : \", transpose_array.shape)\n",
    "print(\"\\n\", transpose_array)\n",
    "\n",
    "transpose_array = np.transpose(transpose_array)\n",
    "print(\"\\nTransposed shape : \", transpose_array.shape)\n",
    "print(\"\\n\", transpose_array)"
   ]
  },
  {
   "cell_type": "markdown",
   "metadata": {},
   "source": [
    "##### Axis"
   ]
  },
  {
   "cell_type": "markdown",
   "metadata": {},
   "source": [
    "<pre>[[10 15 20]\n",
    " [25 30 35]\n",
    " [40 45 50]\n",
    " [55 60 65]\n",
    " [70 75 80]]</pre>\n",
    "\n",
    "Imagine that the above array consists of rows and columns where each array is a row and the first value in each array is the first column, the second value in each array is the second column and so on. To visualize, the rows are \n",
    "<pre>[ 10,  15,  20], [ 25,  30, 35], [40, 45, 50], [55, 60, 65], [70, 75, 80]</pre>\n",
    "and the columns are\n",
    "<pre> [10, 25, 40, 55, 70], [15, 30, 45, 60, 75], [20, 35, 50, 65, 80]</pre>"
   ]
  },
  {
   "cell_type": "markdown",
   "metadata": {},
   "source": [
    "To understand the axis in NumPy, just imagine that axis = 0 is the columns and that axis = 1 is the rows. Axis in NumPy can be very useful:"
   ]
  },
  {
   "cell_type": "code",
   "execution_count": 27,
   "metadata": {},
   "outputs": [
    {
     "name": "stdout",
     "output_type": "stream",
     "text": [
      "[25  5 10]\n",
      "[155  90 135 125 155]\n"
     ]
    }
   ],
   "source": [
    "axis_array = np.array([[ 75,  25,  55], [ 25,  30, 35], [40, 45, 50], [55, 5, 65], [70, 75, 10]])\n",
    "print(axis_array.min(axis = 0)) #Get the minimum value of each column.\n",
    "print(axis_array.sum(axis = 1)) #Get the sum of each row."
   ]
  },
  {
   "cell_type": "markdown",
   "metadata": {},
   "source": [
    "Axis works a bit different with arrays that are not two dimensional. But for now you only need to know how axis works with two dimensional arrays."
   ]
  },
  {
   "cell_type": "markdown",
   "metadata": {},
   "source": [
    "<h4> 2.5 Slice, stack and insert </h4>"
   ]
  },
  {
   "cell_type": "markdown",
   "metadata": {},
   "source": [
    "##### Slicing"
   ]
  },
  {
   "cell_type": "code",
   "execution_count": 28,
   "metadata": {},
   "outputs": [],
   "source": [
    "slice_array = np.array([[1, 2, 3, 4, 5, 6], [7, 8, 9, 10, 11, 12], [13, 14, 15, 16, 17, 18]])"
   ]
  },
  {
   "cell_type": "code",
   "execution_count": 29,
   "metadata": {},
   "outputs": [
    {
     "name": "stdout",
     "output_type": "stream",
     "text": [
      "[4 5 6]\n"
     ]
    }
   ],
   "source": [
    "# From the first element, get all elements starting from the third position.\n",
    "\n",
    "print(slice_array[0,3:])"
   ]
  },
  {
   "cell_type": "code",
   "execution_count": 30,
   "metadata": {},
   "outputs": [
    {
     "name": "stdout",
     "output_type": "stream",
     "text": [
      "[ 4 10 16]\n"
     ]
    }
   ],
   "source": [
    "# Get the third position in each element.\n",
    "\n",
    "print(slice_array[0:,3])"
   ]
  },
  {
   "cell_type": "code",
   "execution_count": 31,
   "metadata": {},
   "outputs": [
    {
     "name": "stdout",
     "output_type": "stream",
     "text": [
      "[[1 2 3]\n",
      " [7 8 9]]\n"
     ]
    }
   ],
   "source": [
    "# Get the three first elements from the first two elements.\n",
    "\n",
    "print(slice_array[0:2,0:3])"
   ]
  },
  {
   "cell_type": "code",
   "execution_count": 32,
   "metadata": {},
   "outputs": [
    {
     "name": "stdout",
     "output_type": "stream",
     "text": [
      "[[  1   2   3   4   5   6]\n",
      " [  7   8   9  10  11  12]\n",
      " [100 200 300  16  17  18]]\n"
     ]
    }
   ],
   "source": [
    "# Replace the first three elements in the third element with 100, 200 and 300\n",
    "replace = np.array([100, 200, 300])\n",
    "\n",
    "slice_array[2,:3] = replace\n",
    "print(slice_array)"
   ]
  },
  {
   "cell_type": "code",
   "execution_count": 33,
   "metadata": {},
   "outputs": [
    {
     "name": "stdout",
     "output_type": "stream",
     "text": [
      "[[  1   2   3   4   5   6]\n",
      " [  7   8   0   0  11  12]\n",
      " [100 200   0   0  17  18]]\n"
     ]
    }
   ],
   "source": [
    "# Replace the two middle elements in the second and third element with zeros.\n",
    "\n",
    "replace = np.zeros(4).reshape(2, 2)\n",
    "\n",
    "slice_array[1:3,2:4] = replace\n",
    "print(slice_array)"
   ]
  },
  {
   "cell_type": "markdown",
   "metadata": {},
   "source": [
    "##### Stacking"
   ]
  },
  {
   "cell_type": "markdown",
   "metadata": {},
   "source": [
    "Stacking allows you to stack arrays into one array. Vertical stacking stacks the arrays without changing the number of columns. Horizontal stacking stacks the arrays without changing the number of rows. "
   ]
  },
  {
   "cell_type": "code",
   "execution_count": 34,
   "metadata": {},
   "outputs": [
    {
     "name": "stdout",
     "output_type": "stream",
     "text": [
      "vertical stacking : \n",
      " [[1 2]\n",
      " [3 4]\n",
      " [5 6]\n",
      " [6 7]]\n",
      "\n",
      "horizontal stacking : \n",
      " [[1 2 5 6]\n",
      " [3 4 6 7]]\n"
     ]
    }
   ],
   "source": [
    "a = np.array([[1, 2], [3, 4]])\n",
    "b = np.array([[5, 6], [6, 7]])\n",
    "\n",
    "print(\"vertical stacking : \\n\", np.vstack((a, b))) # Use .vstack for vertical stacking\n",
    "print(\"\\nhorizontal stacking : \\n\", np.hstack((a, b))) # Use .hstack for horizontal stacking"
   ]
  },
  {
   "cell_type": "markdown",
   "metadata": {},
   "source": [
    "##### Insert"
   ]
  },
  {
   "cell_type": "code",
   "execution_count": 35,
   "metadata": {},
   "outputs": [
    {
     "name": "stdout",
     "output_type": "stream",
     "text": [
      "[[1 2]\n",
      " [3 4]\n",
      " [5 6]\n",
      " [7 8]]\n"
     ]
    }
   ],
   "source": [
    "# Use insert if you want to insert a element into a specific place.\n",
    "\n",
    "insert_array = np.array([[1, 2], [3, 4], [7, 8]])\n",
    "missing_element = np.array([5, 6])\n",
    "\n",
    "print(np.insert(insert_array, 2, missing_element, axis = 0)) #insert missing_element into insert_array at index 2 and axis = 0."
   ]
  },
  {
   "cell_type": "code",
   "execution_count": 36,
   "metadata": {},
   "outputs": [
    {
     "name": "stdout",
     "output_type": "stream",
     "text": [
      "[[ 1  2  3  4]\n",
      " [ 5  6  7  8]\n",
      " [ 9 10 11 12]]\n"
     ]
    }
   ],
   "source": [
    "# Inserting horizontally.\n",
    "\n",
    "insert_array = np.array([[1, 2, 4], [5, 6, 8], [9, 10, 12]])\n",
    "missing_element = np.array([3, 7, 11])\n",
    "\n",
    "print(np.insert(insert_array, 2, missing_element, axis = 1)) #insert missing_element into insert_array at index 2 and axis = 1."
   ]
  },
  {
   "cell_type": "markdown",
   "metadata": {},
   "source": [
    "<h4>2.6 Question Time! </h4>"
   ]
  },
  {
   "cell_type": "code",
   "execution_count": 37,
   "metadata": {},
   "outputs": [],
   "source": [
    "#Q1 Print the middle three values of the following array\n",
    "arr = [1, 2, 3, 4, 5 ,6, 7 ,8, 9]"
   ]
  },
  {
   "cell_type": "code",
   "execution_count": 58,
   "metadata": {},
   "outputs": [
    {
     "name": "stdout",
     "output_type": "stream",
     "text": [
      "[4, 5, 6]\n"
     ]
    }
   ],
   "source": [
    "#Q1 Your answer here:\n",
    "print(arr[3:6])\n"
   ]
  },
  {
   "cell_type": "markdown",
   "metadata": {},
   "source": [
    "<p>Q1 Expected output: </p>\n",
    "\n",
    "<pre>[4, 5, 6]\n",
    "</pre>"
   ]
  },
  {
   "cell_type": "code",
   "execution_count": 69,
   "metadata": {},
   "outputs": [],
   "source": [
    "#Q2 What is the sum of the third row in the following array?\n",
    "sum_array = np.array([[10, 15, 20, 25, 30], [40, 45, 50, 55, 60], [70, 75, 80, 85, 90], [100, 105, 110, 115, 120]])"
   ]
  },
  {
   "cell_type": "code",
   "execution_count": 71,
   "metadata": {},
   "outputs": [
    {
     "name": "stdout",
     "output_type": "stream",
     "text": [
      "400\n"
     ]
    }
   ],
   "source": [
    "#Q2 Your answer here:\n",
    "print(sum(sum_array[2,:]))\n"
   ]
  },
  {
   "cell_type": "markdown",
   "metadata": {},
   "source": [
    "<p>Q2 Expected output: </p>\n",
    "\n",
    "<pre>400\n",
    "</pre>"
   ]
  },
  {
   "cell_type": "markdown",
   "metadata": {},
   "source": [
    "Q3 Recreate this array (without just manually declaring this exact array): \n",
    "\n",
    "<pre>[[1 1 1 1 1]\n",
    " [1 0 0 0 1]\n",
    " [1 0 9 0 1]\n",
    " [1 0 0 0 1]\n",
    " [1 1 1 1 1]]</pre>"
   ]
  },
  {
   "cell_type": "code",
   "execution_count": 88,
   "metadata": {},
   "outputs": [
    {
     "name": "stdout",
     "output_type": "stream",
     "text": [
      "[[1 1 1 1 1]\n",
      " [1 1 1 1 1]\n",
      " [1 1 1 1 1]\n",
      " [1 1 1 1 1]\n",
      " [1 1 1 1 1]]\n",
      "[[1 1 1 1 1]\n",
      " [1 0 0 0 1]\n",
      " [1 0 0 0 1]\n",
      " [1 0 0 0 1]\n",
      " [1 1 1 1 1]]\n",
      "[[1 1 1 1 1]\n",
      " [1 0 0 0 1]\n",
      " [1 0 9 0 1]\n",
      " [1 0 0 0 1]\n",
      " [1 1 1 1 1]]\n"
     ]
    }
   ],
   "source": [
    "#Q3 Your answer here: \n",
    "box = np.ones((5,5), dtype=np.int16)\n",
    "print(box)\n",
    "small_box = np.zeros((3,3), dtype=np.int16)\n",
    "box[1:4, 1:4]=small_box\n",
    "print(box)\n",
    "\n",
    "smaller_box = 9\n",
    "box[2,2]=smaller_box\n",
    "print(box)"
   ]
  },
  {
   "cell_type": "markdown",
   "metadata": {},
   "source": [
    "<p>Q3 Expected output: </p>\n",
    "\n",
    "<pre>[[1 1 1 1 1]\n",
    " [1 0 0 0 1]\n",
    " [1 0 9 0 1]\n",
    " [1 0 0 0 1]\n",
    " [1 1 1 1 1]]</pre>"
   ]
  },
  {
   "cell_type": "code",
   "execution_count": null,
   "metadata": {},
   "outputs": [],
   "source": [
    "#Q4 Insert the missing row in this sudoku. Bonus points if you insert it in the correct place but not required. \n",
    "\n",
    "unfinished_sudoku = np.array([[3, 1, 6, 5, 7, 8, 4, 9, 2], \n",
    "[5, 2, 9, 1, 3, 4, 7, 6, 8], \n",
    "[4, 8, 7, 6, 2, 9, 5, 3, 1], \n",
    "[2, 6, 3, 4, 1, 5, 9, 8, 7], \n",
    "[8, 5, 1, 7, 9, 2, 6, 4, 3], \n",
    "[1, 3, 8, 9, 4, 7, 2, 5, 6], \n",
    "[6, 9, 2, 3, 5, 1, 8, 7, 4],\n",
    "[7, 4, 5, 2, 8, 6, 3, 1, 9]])\n",
    "\n",
    "missing_row = [9, 7, 4, 8, 6, 3, 1, 2, 5]"
   ]
  },
  {
   "cell_type": "code",
   "execution_count": null,
   "metadata": {},
   "outputs": [],
   "source": [
    "#Q4 Your answer here: \n",
    "\n"
   ]
  },
  {
   "cell_type": "markdown",
   "metadata": {},
   "source": [
    "<p>Q4 Expected output: </p>\n",
    "\n",
    "<pre>[[3 1 6 5 7 8 4 9 2]\n",
    " [5 2 9 1 3 4 7 6 8]\n",
    " [4 8 7 6 2 9 5 3 1]\n",
    " [2 6 3 4 1 5 9 8 7]\n",
    " [9 7 4 8 6 3 1 2 5]\n",
    " [8 5 1 7 9 2 6 4 3]\n",
    " [1 3 8 9 4 7 2 5 6]\n",
    " [6 9 2 3 5 1 8 7 4]\n",
    " [7 4 5 2 8 6 3 1 9]]\n",
    "</pre>"
   ]
  },
  {
   "cell_type": "code",
   "execution_count": null,
   "metadata": {},
   "outputs": [],
   "source": [
    "#Q5 Sort this array by ascending\n",
    "sort_arr = np.array([1, 6, 34, 7, 2, 99, 46, 84, 23])"
   ]
  },
  {
   "cell_type": "code",
   "execution_count": null,
   "metadata": {},
   "outputs": [],
   "source": [
    "#Q5 Your answer here:\n",
    "\n"
   ]
  },
  {
   "cell_type": "markdown",
   "metadata": {},
   "source": [
    "<p>Q5 Expected output: </p>\n",
    "\n",
    "<pre>[ 1  2  6  7 23 34 46 84 99]\n",
    "</pre>"
   ]
  },
  {
   "cell_type": "code",
   "execution_count": null,
   "metadata": {},
   "outputs": [],
   "source": [
    "#Q6 How many rows and how many columns does this array have?\n",
    "\n",
    "array = np.array([[1., 1., 1., 1., 1., 1., 1., 1., 1., 1., 1., 1., 1., 1., 1., 1.,\n",
    "        1., 1., 1., 1., 1., 1., 1., 1., 1., 1., 1., 1., 1., 1., 1., 1.,\n",
    "        1., 1., 1., 1., 1., 1., 1., 1., 1., 1., 1., 1., 1., 1., 1., 1.,\n",
    "        1., 1.],\n",
    "       [1., 1., 1., 1., 1., 1., 1., 1., 1., 1., 1., 1., 1., 1., 1., 1.,\n",
    "        1., 1., 1., 1., 1., 1., 1., 1., 1., 1., 1., 1., 1., 1., 1., 1.,\n",
    "        1., 1., 1., 1., 1., 1., 1., 1., 1., 1., 1., 1., 1., 1., 1., 1.,\n",
    "        1., 1.],\n",
    "       [1., 1., 1., 1., 1., 1., 1., 1., 1., 1., 1., 1., 1., 1., 1., 1.,\n",
    "        1., 1., 1., 1., 1., 1., 1., 1., 1., 1., 1., 1., 1., 1., 1., 1.,\n",
    "        1., 1., 1., 1., 1., 1., 1., 1., 1., 1., 1., 1., 1., 1., 1., 1.,\n",
    "        1., 1.],\n",
    "       [1., 1., 1., 1., 1., 1., 1., 1., 1., 1., 1., 1., 1., 1., 1., 1.,\n",
    "        1., 1., 1., 1., 1., 1., 1., 1., 1., 1., 1., 1., 1., 1., 1., 1.,\n",
    "        1., 1., 1., 1., 1., 1., 1., 1., 1., 1., 1., 1., 1., 1., 1., 1.,\n",
    "        1., 1.]])"
   ]
  },
  {
   "cell_type": "code",
   "execution_count": null,
   "metadata": {},
   "outputs": [],
   "source": [
    "#Q6 Your answer here:\n",
    "\n"
   ]
  },
  {
   "cell_type": "markdown",
   "metadata": {},
   "source": [
    "<p>Q6 Expected output: </p>\n",
    "\n",
    "<pre>(4, 50)\n",
    "</pre>"
   ]
  },
  {
   "cell_type": "code",
   "execution_count": null,
   "metadata": {},
   "outputs": [],
   "source": [
    "#Q7 Change this array so that each number is increased by one from the previous (1, 2, 3, 4 .... 21, 22, 23, 24)\n",
    "\n",
    "increase_array = np.array([[1, 1, 1, 1], [5, 5, 5, 5], [9, 9, 9, 9], [13, 13, 13, 13], [17, 17, 17, 17], [21, 21, 21, 21]])"
   ]
  },
  {
   "cell_type": "code",
   "execution_count": null,
   "metadata": {},
   "outputs": [],
   "source": [
    "#Q7 Your answer here:\n",
    "\n"
   ]
  },
  {
   "cell_type": "markdown",
   "metadata": {},
   "source": [
    "<p>Q7 Expected output: </p>\n",
    "\n",
    "<pre>[[ 1  2  3  4]\n",
    " [ 5  6  7  8]\n",
    " [ 9 10 11 12]\n",
    " [13 14 15 16]\n",
    " [17 18 19 20]\n",
    " [21 22 23 24]]\n",
    "</pre>"
   ]
  },
  {
   "cell_type": "code",
   "execution_count": null,
   "metadata": {},
   "outputs": [],
   "source": [
    "#Q8 Create an array with integers 1-20 and reshape it so it has 4 rows and 5 columns."
   ]
  },
  {
   "cell_type": "code",
   "execution_count": null,
   "metadata": {},
   "outputs": [],
   "source": [
    "#Q8 Your answer here:\n",
    "\n"
   ]
  },
  {
   "cell_type": "markdown",
   "metadata": {},
   "source": [
    "<p>Q8 Expected output: </p>\n",
    "\n",
    "<pre>[[ 1  2  3  4  5]\n",
    " [ 6  7  8  9 10]\n",
    " [11 12 13 14 15]\n",
    " [16 17 18 19 20]]\n",
    "</pre>"
   ]
  },
  {
   "cell_type": "code",
   "execution_count": null,
   "metadata": {},
   "outputs": [],
   "source": [
    "#Q9 Create the expected output using the arrays in this cell and by using stacking. \n",
    "\n",
    "a = [[1, 2]]\n",
    "b = [[3, 4]]\n",
    "c = [[5, 6]]\n",
    "d = [[7, 8]]"
   ]
  },
  {
   "cell_type": "code",
   "execution_count": null,
   "metadata": {},
   "outputs": [],
   "source": [
    "#Q9 You answer here:\n",
    "\n"
   ]
  },
  {
   "cell_type": "markdown",
   "metadata": {},
   "source": [
    "<p>Q9 Expected output: </p>\n",
    "\n",
    "<pre>[[1 2 3 4]\n",
    " [5 6 7 8]]\n",
    "</pre>"
   ]
  },
  {
   "cell_type": "code",
   "execution_count": 40,
   "metadata": {},
   "outputs": [],
   "source": [
    "#Q10 How many dimensions has the following array? \n",
    "\n",
    "dimension_array = np.arange(6400).reshape(4, 4, 5, 8, 1, 10)"
   ]
  },
  {
   "cell_type": "code",
   "execution_count": 47,
   "metadata": {},
   "outputs": [
    {
     "name": "stdout",
     "output_type": "stream",
     "text": [
      "4\n"
     ]
    }
   ],
   "source": [
    "#Q10 Your answer here: \n",
    "print(len(dimension_array))"
   ]
  },
  {
   "cell_type": "markdown",
   "metadata": {},
   "source": [
    "<p>Q10 Expected output: </p>\n",
    "\n",
    "<pre>6\n",
    "</pre>"
   ]
  }
 ],
 "metadata": {
  "kernelspec": {
   "display_name": "Python 3",
   "language": "python",
   "name": "python3"
  },
  "language_info": {
   "codemirror_mode": {
    "name": "ipython",
    "version": 3
   },
   "file_extension": ".py",
   "mimetype": "text/x-python",
   "name": "python",
   "nbconvert_exporter": "python",
   "pygments_lexer": "ipython3",
   "version": "3.8.3"
  }
 },
 "nbformat": 4,
 "nbformat_minor": 5
}
